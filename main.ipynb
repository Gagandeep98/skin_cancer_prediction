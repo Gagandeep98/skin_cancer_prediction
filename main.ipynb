{
 "cells": [
  {
   "cell_type": "code",
   "execution_count": 1,
   "id": "edcdfa17",
   "metadata": {},
   "outputs": [],
   "source": [
    "#Importing libraries\n",
    "import numpy as np\n",
    "from PIL import Image\n",
    "from sklearn.preprocessing import LabelEncoder\n",
    "from tensorflow.keras.models import load_model\n"
   ]
  },
  {
   "cell_type": "code",
   "execution_count": 2,
   "id": "541e1bf9",
   "metadata": {},
   "outputs": [],
   "source": [
    "def getPrediction(filename):\n",
    "    \n",
    "    classes = ['Actinic keratoses', 'Basal cell carcinoma', \n",
    "               'Benign keratosis-like lesions', 'Dermatofibroma', 'Melanoma', \n",
    "               'Melanocytic nevi', 'Vascular lesions']\n",
    "    le = LabelEncoder()\n",
    "    le.fit(classes)\n",
    "    le.inverse_transform([2])\n",
    "    \n",
    "    \n",
    "    #Load model\n",
    "    my_model=load_model(r'C:\\Users\\pc\\Downloads\\skin\\model\\HAM10000_100epochs.h5')\n",
    "    \n",
    "    SIZE = 32 #Resize to same size as training images\n",
    "    \n",
    "    img_path = 'C:/Users/pc/Downloads/skin/static/images/'+filename\n",
    "    img = np.asarray(Image.open(img_path).resize((SIZE,SIZE)))\n",
    "    \n",
    "    img = img/255.      #Scale pixel values\n",
    "    \n",
    "    img = np.expand_dims(img, axis=0)  #Get it tready as input to the network       \n",
    "    \n",
    "    pred = my_model.predict(img) #Predict                    \n",
    "    \n",
    "    #Convert prediction to class name\n",
    "    pred_class = le.inverse_transform([np.argmax(pred)])[0]\n",
    "    print(\"Diagnosis is:\", pred_class)\n",
    "    return pred_class\n",
    "\n",
    "\n",
    "\n",
    "\n",
    "\n"
   ]
  },
  {
   "cell_type": "code",
   "execution_count": 3,
   "id": "00b1ae9f",
   "metadata": {},
   "outputs": [
    {
     "name": "stdout",
     "output_type": "stream",
     "text": [
      "1/1 [==============================] - 0s 143ms/step\n",
      "Diagnosis is: Basal cell carcinoma\n"
     ]
    }
   ],
   "source": [
    "test_prediction =getPrediction('Capture.jpg')"
   ]
  },
  {
   "cell_type": "code",
   "execution_count": null,
   "id": "b4b3b7a1",
   "metadata": {},
   "outputs": [],
   "source": []
  }
 ],
 "metadata": {
  "kernelspec": {
   "display_name": "Python 3 (ipykernel)",
   "language": "python",
   "name": "python3"
  },
  "language_info": {
   "codemirror_mode": {
    "name": "ipython",
    "version": 3
   },
   "file_extension": ".py",
   "mimetype": "text/x-python",
   "name": "python",
   "nbconvert_exporter": "python",
   "pygments_lexer": "ipython3",
   "version": "3.9.13"
  }
 },
 "nbformat": 4,
 "nbformat_minor": 5
}
