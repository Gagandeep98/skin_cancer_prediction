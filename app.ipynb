{
 "cells": [
  {
   "cell_type": "code",
   "execution_count": 1,
   "id": "47b1948d",
   "metadata": {},
   "outputs": [],
   "source": [
    "from flask import Flask, render_template, request, redirect, flash\n",
    "from werkzeug.utils import secure_filename\n",
    "from main import getPrediction\n",
    "import os"
   ]
  },
  {
   "cell_type": "code",
   "execution_count": null,
   "id": "78f58b47",
   "metadata": {},
   "outputs": [
    {
     "name": "stdout",
     "output_type": "stream",
     "text": [
      " * Serving Flask app \"__main__\" (lazy loading)\n",
      " * Environment: production\n",
      "\u001b[31m   WARNING: This is a development server. Do not use it in a production deployment.\u001b[0m\n",
      "\u001b[2m   Use a production WSGI server instead.\u001b[0m\n",
      " * Debug mode: off\n"
     ]
    },
    {
     "name": "stderr",
     "output_type": "stream",
     "text": [
      " * Running on http://127.0.0.1:5000/ (Press CTRL+C to quit)\n",
      "127.0.0.1 - - [09/Aug/2023 08:15:31] \"GET / HTTP/1.1\" 200 -\n"
     ]
    },
    {
     "name": "stdout",
     "output_type": "stream",
     "text": [
      "1/1 [==============================] - 0s 143ms/step\n"
     ]
    },
    {
     "name": "stderr",
     "output_type": "stream",
     "text": [
      "127.0.0.1 - - [09/Aug/2023 08:15:48] \"POST / HTTP/1.1\" 302 -\n",
      "127.0.0.1 - - [09/Aug/2023 08:15:48] \"GET / HTTP/1.1\" 200 -\n"
     ]
    },
    {
     "name": "stdout",
     "output_type": "stream",
     "text": [
      "Diagnosis is: Melanocytic nevi\n",
      "1/1 [==============================] - 0s 87ms/step\n"
     ]
    },
    {
     "name": "stderr",
     "output_type": "stream",
     "text": [
      "127.0.0.1 - - [09/Aug/2023 08:16:40] \"POST / HTTP/1.1\" 302 -\n",
      "127.0.0.1 - - [09/Aug/2023 08:16:40] \"GET / HTTP/1.1\" 200 -\n"
     ]
    },
    {
     "name": "stdout",
     "output_type": "stream",
     "text": [
      "Diagnosis is: Actinic keratoses\n"
     ]
    }
   ],
   "source": [
    "#Save images to the 'static' folder as Flask serves images from this directory\n",
    "UPLOAD_FOLDER = 'C:/Users/pc/Downloads/skin/static/images/'\n",
    "\n",
    "#Create an app object using the Flask class. \n",
    "app = Flask(__name__, static_folder=\"static\")\n",
    "\n",
    "app.secret_key = \"secret_key\"\n",
    "\n",
    "#Define the upload folder to save images uploaded by the user. \n",
    "app.config['UPLOAD_FOLDER'] = UPLOAD_FOLDER\n",
    "\n",
    "#Define the route to be home. \n",
    "#The decorator below links the relative route of the URL to the function it is decorating.\n",
    "#Here, index function is with '/', our root directory. \n",
    "#Running the app sends us to index.html.\n",
    "#Note that render_template means it looks for the file in the templates folder. \n",
    "@app.route('/')\n",
    "def index():\n",
    "    return render_template('index.html')\n",
    "\n",
    "#Add Post method to the decorator to allow for form submission. \n",
    "@app.route('/', methods=['POST'])\n",
    "def submit_file():\n",
    "    if request.method == 'POST':\n",
    "        if 'file' not in request.files:\n",
    "            flash('No file part')\n",
    "            return redirect(request.url)\n",
    "        file = request.files['file']\n",
    "        if file.filename == '':\n",
    "            flash('No file selected for uploading')\n",
    "            return redirect(request.url)\n",
    "        if file:\n",
    "            filename = secure_filename(file.filename)  #Use this method to secure filename. \n",
    "            file.save(os.path.join(app.config['UPLOAD_FOLDER'],filename))\n",
    "            #getPrediction(filename)\n",
    "            label = getPrediction(filename)\n",
    "            flash(label)\n",
    "            full_filename = os.path.join(app.config['UPLOAD_FOLDER'], filename)\n",
    "            flash(full_filename)\n",
    "            return redirect('/')\n",
    "\n",
    "\n",
    "if __name__ == \"__main__\":\n",
    "    app.run()"
   ]
  },
  {
   "cell_type": "code",
   "execution_count": null,
   "id": "5ad0ff19",
   "metadata": {},
   "outputs": [],
   "source": []
  }
 ],
 "metadata": {
  "kernelspec": {
   "display_name": "Python 3 (ipykernel)",
   "language": "python",
   "name": "python3"
  },
  "language_info": {
   "codemirror_mode": {
    "name": "ipython",
    "version": 3
   },
   "file_extension": ".py",
   "mimetype": "text/x-python",
   "name": "python",
   "nbconvert_exporter": "python",
   "pygments_lexer": "ipython3",
   "version": "3.9.13"
  }
 },
 "nbformat": 4,
 "nbformat_minor": 5
}
